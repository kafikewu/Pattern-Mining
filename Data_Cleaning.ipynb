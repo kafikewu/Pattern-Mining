{
  "nbformat": 4,
  "nbformat_minor": 0,
  "metadata": {
    "colab": {
      "name": "Data Cleaning.ipynb",
      "provenance": [],
      "mount_file_id": "1lQrT-VPw3s70ui7yGdHbYfVykW0WLkQW",
      "authorship_tag": "ABX9TyNqOTmaXM2Nr6Gpxur9UNy1",
      "include_colab_link": true
    },
    "kernelspec": {
      "name": "python3",
      "display_name": "Python 3"
    },
    "language_info": {
      "name": "python"
    }
  },
  "cells": [
    {
      "cell_type": "markdown",
      "metadata": {
        "id": "view-in-github",
        "colab_type": "text"
      },
      "source": [
        "<a href=\"https://colab.research.google.com/github/kafikewu/Pattern-Mining/blob/master/Data_Cleaning.ipynb\" target=\"_parent\"><img src=\"https://colab.research.google.com/assets/colab-badge.svg\" alt=\"Open In Colab\"/></a>"
      ]
    },
    {
      "cell_type": "code",
      "metadata": {
        "id": "gZO-NRwqQS8G"
      },
      "source": [
        "import pandas as pd\n",
        "import numpy as np\n",
        "from collections import Counter"
      ],
      "execution_count": null,
      "outputs": []
    },
    {
      "cell_type": "code",
      "metadata": {
        "id": "Pj4bHeROQk6s"
      },
      "source": [
        "treshold = 0.05\n",
        "dataset = []\n",
        "transaction_counts = Counter()\n",
        "with open(\"/content/drive/MyDrive/CSE477 Project/chess.dat\") as f:\n",
        "  for line in f:\n",
        "    dataline = [int(i) for i in line.split(' ')[:-1]] ## Due to the last position having \\n\n",
        "    transaction_counts += Counter(dataline)\n",
        "    dataset.append(dataline)\n",
        "    print(dataline)\n",
        "# print(len(dataset))\n",
        "transaction_counts = sorted(transaction_counts.items(), key= lambda x: x[1])\n",
        "transaction_counts = map(lambda x: (x[0],x[1]/len(dataset)), transaction_counts )\n",
        "transaction_counts = sorted([i[0] for i in list(filter(lambda x: True if x[1] <= treshold else False, transaction_counts))], key=lambda x: x)\n",
        "transaction_counts\n",
        "for index, value in enumerate(dataset):\n",
        "    dataset[index] = list(filter(lambda x: False if x in transaction_counts else True, dataset[index]))"
      ],
      "execution_count": null,
      "outputs": []
    },
    {
      "cell_type": "code",
      "metadata": {
        "id": "v6MR7y3CrmeS"
      },
      "source": [
        "from mlxtend.preprocessing import TransactionEncoder\n",
        "transactionencoder = TransactionEncoder()\n",
        "arr = transactionencoder.fit_transform(dataset)\n",
        "df = pd.DataFrame(data=arr, columns=[str(i) for i in transactionencoder.columns_]) ## After fit_transform, the transactionencoder automatically generates the columns"
      ],
      "execution_count": null,
      "outputs": []
    },
    {
      "cell_type": "code",
      "metadata": {
        "id": "0NInHWf5ZsDk"
      },
      "source": [
        "# https://stackoverflow.com/questions/51528769/how-to-implement-fpgrowth-algorithm-in-python"
      ],
      "execution_count": null,
      "outputs": []
    },
    {
      "cell_type": "code",
      "metadata": {
        "id": "ZXYIg2M4-QM9"
      },
      "source": [
        "df.to_csv('/content/drive/MyDrive/CSE477 Project/chessCleaned(0.5).csv')"
      ],
      "execution_count": null,
      "outputs": []
    },
    {
      "cell_type": "code",
      "metadata": {
        "colab": {
          "base_uri": "https://localhost:8080/",
          "height": 454
        },
        "id": "knko3N8KlV2S",
        "outputId": "3b993bca-d7ce-4097-a1ed-b149b131983a"
      },
      "source": [
        "%pip install mlxtend --upgrade"
      ],
      "execution_count": null,
      "outputs": [
        {
          "output_type": "stream",
          "text": [
            "Collecting mlxtend\n",
            "\u001b[?25l  Downloading https://files.pythonhosted.org/packages/86/30/781c0b962a70848db83339567ecab656638c62f05adb064cb33c0ae49244/mlxtend-0.18.0-py2.py3-none-any.whl (1.3MB)\n",
            "\u001b[K     |████████████████████████████████| 1.4MB 13.2MB/s \n",
            "\u001b[?25hRequirement already satisfied, skipping upgrade: scikit-learn>=0.20.3 in /usr/local/lib/python3.7/dist-packages (from mlxtend) (0.22.2.post1)\n",
            "Requirement already satisfied, skipping upgrade: matplotlib>=3.0.0 in /usr/local/lib/python3.7/dist-packages (from mlxtend) (3.2.2)\n",
            "Requirement already satisfied, skipping upgrade: joblib>=0.13.2 in /usr/local/lib/python3.7/dist-packages (from mlxtend) (1.0.1)\n",
            "Requirement already satisfied, skipping upgrade: scipy>=1.2.1 in /usr/local/lib/python3.7/dist-packages (from mlxtend) (1.4.1)\n",
            "Requirement already satisfied, skipping upgrade: pandas>=0.24.2 in /usr/local/lib/python3.7/dist-packages (from mlxtend) (1.1.5)\n",
            "Requirement already satisfied, skipping upgrade: numpy>=1.16.2 in /usr/local/lib/python3.7/dist-packages (from mlxtend) (1.19.5)\n",
            "Requirement already satisfied, skipping upgrade: setuptools in /usr/local/lib/python3.7/dist-packages (from mlxtend) (56.1.0)\n",
            "Requirement already satisfied, skipping upgrade: cycler>=0.10 in /usr/local/lib/python3.7/dist-packages (from matplotlib>=3.0.0->mlxtend) (0.10.0)\n",
            "Requirement already satisfied, skipping upgrade: pyparsing!=2.0.4,!=2.1.2,!=2.1.6,>=2.0.1 in /usr/local/lib/python3.7/dist-packages (from matplotlib>=3.0.0->mlxtend) (2.4.7)\n",
            "Requirement already satisfied, skipping upgrade: python-dateutil>=2.1 in /usr/local/lib/python3.7/dist-packages (from matplotlib>=3.0.0->mlxtend) (2.8.1)\n",
            "Requirement already satisfied, skipping upgrade: kiwisolver>=1.0.1 in /usr/local/lib/python3.7/dist-packages (from matplotlib>=3.0.0->mlxtend) (1.3.1)\n",
            "Requirement already satisfied, skipping upgrade: pytz>=2017.2 in /usr/local/lib/python3.7/dist-packages (from pandas>=0.24.2->mlxtend) (2018.9)\n",
            "Requirement already satisfied, skipping upgrade: six in /usr/local/lib/python3.7/dist-packages (from cycler>=0.10->matplotlib>=3.0.0->mlxtend) (1.15.0)\n",
            "Installing collected packages: mlxtend\n",
            "  Found existing installation: mlxtend 0.14.0\n",
            "    Uninstalling mlxtend-0.14.0:\n",
            "      Successfully uninstalled mlxtend-0.14.0\n",
            "Successfully installed mlxtend-0.18.0\n"
          ],
          "name": "stdout"
        },
        {
          "output_type": "display_data",
          "data": {
            "application/vnd.colab-display-data+json": {
              "pip_warning": {
                "packages": [
                  "mlxtend"
                ]
              }
            }
          },
          "metadata": {
            "tags": []
          }
        }
      ]
    },
    {
      "cell_type": "code",
      "metadata": {
        "colab": {
          "base_uri": "https://localhost:8080/"
        },
        "id": "5xAQKLffpaUa",
        "outputId": "758e3f3c-f06a-448a-c8c0-802bf04d8659"
      },
      "source": [
        "Apriori_dataframe = pd.read_csv('/content/drive/MyDrive/CSE477 Project/Chess_Apriori.csv')\n",
        "Apriori_dataframe.pop('Unnamed: 0')\n",
        "Fp_dataframe = pd.read_csv('/content/drive/MyDrive/CSE477 Project/Chess_Fp.csv')\n",
        "Fp_dataframe.pop('Unnamed: 0')"
      ],
      "execution_count": null,
      "outputs": [
        {
          "output_type": "execute_result",
          "data": {
            "text/plain": [
              "0      0\n",
              "1      1\n",
              "2      2\n",
              "3      3\n",
              "4      4\n",
              "      ..\n",
              "65    65\n",
              "66    66\n",
              "67    67\n",
              "68    68\n",
              "69    69\n",
              "Name: Unnamed: 0, Length: 70, dtype: int64"
            ]
          },
          "metadata": {
            "tags": []
          },
          "execution_count": 27
        }
      ]
    },
    {
      "cell_type": "code",
      "metadata": {
        "colab": {
          "base_uri": "https://localhost:8080/",
          "height": 285
        },
        "id": "Sfwwj7FMrZJg",
        "outputId": "7207c39b-a353-4f57-c2b1-2b6d05a9a639"
      },
      "source": [
        "sns.set_theme(style=\"whitegrid\")\n",
        "Apriori_dataframe = Apriori_dataframe.rename(columns= {'Accuracy': 'Threshold'})\n",
        "ax = sns.boxplot(x=\"Threshold\", y=\"Time\", data=Apriori_dataframe)\n",
        "figure = ax.get_figure()\n",
        "figure.savefig(\"/content/drive/MyDrive/CSE477 Project/Chess_Apriori.png\")"
      ],
      "execution_count": null,
      "outputs": [
        {
          "output_type": "display_data",
          "data": {
            "image/png": "[encoded data removed]",
            "text/plain": [
              "<Figure size 432x288 with 1 Axes>"
            ]
          },
          "metadata": {
            "tags": []
          }
        }
      ]
    },
    {
      "cell_type": "code",
      "metadata": {
        "colab": {
          "base_uri": "https://localhost:8080/",
          "height": 285
        },
        "id": "gomzEHyDrwDa",
        "outputId": "a75022d5-d17f-46d8-935f-27c94ba14ee9"
      },
      "source": [
        "sns.set_theme(style=\"whitegrid\")\n",
        "Fp_dataframe = Fp_dataframe.rename(columns= {'Accuracy': 'Threshold'})\n",
        "ax = sns.boxplot(x=\"Threshold\", y=\"Time\", data=Fp_dataframe)\n",
        "figure = ax.get_figure()\n",
        "figure.savefig(\"/content/drive/MyDrive/CSE477 Project/Chess_Fp.png\")"
      ],
      "execution_count": null,
      "outputs": [
        {
          "output_type": "display_data",
          "data": {
            "image/png": "[encoded data removed]",
            "text/plain": [
              "<Figure size 432x288 with 1 Axes>"
            ]
          },
          "metadata": {
            "tags": []
          }
        }
      ]
    },
    {
      "cell_type": "code",
      "metadata": {
        "colab": {
          "base_uri": "https://localhost:8080/",
          "height": 520
        },
        "id": "QSIdd76xo50G",
        "outputId": "5d198d55-d0b7-4b35-c2f2-a27f0cfe99fe"
      },
      "source": [
        "import seaborn as sns\n",
        "Apriori_dataframe = Apriori_dataframe.append(Fp_dataframe)\n",
        "Apriori_dataframe = Apriori_dataframe.rename(columns= {'Accuracy': 'Threshold'})\n",
        "ax = sns.boxplot(x=\"Threshold\", y=\"Time\", hue=\"Algorithm\",\n",
        "                 data=Apriori_dataframe, linewidth=2.5)\n",
        "figure = ax.get_figure()\n",
        "figure.savefig(\"/content/drive/MyDrive/CSE477 Project/Chess_Comparison.png\")\n",
        "print(Fp_dataframe)"
      ],
      "execution_count": null,
      "outputs": [
        {
          "output_type": "stream",
          "text": [
            "    Threshold      Time  Number_of_patterns  Algorithm\n",
            "0          65  4.233787              111239  Fp-Growth\n",
            "1          65  3.942816              111239  Fp-Growth\n",
            "2          65  3.893556              111239  Fp-Growth\n",
            "3          65  4.205117              111239  Fp-Growth\n",
            "4          65  3.919481              111239  Fp-Growth\n",
            "..        ...       ...                 ...        ...\n",
            "65         95  0.061749                  77  Fp-Growth\n",
            "66         95  0.059206                  77  Fp-Growth\n",
            "67         95  0.058429                  77  Fp-Growth\n",
            "68         95  0.059870                  77  Fp-Growth\n",
            "69         95  0.069432                  77  Fp-Growth\n",
            "\n",
            "[70 rows x 4 columns]\n"
          ],
          "name": "stdout"
        },
        {
          "output_type": "display_data",
          "data": {
            "image/png": "[encoded data removed]",
            "text/plain": [
              "<Figure size 432x288 with 1 Axes>"
            ]
          },
          "metadata": {
            "tags": []
          }
        }
      ]
    },
    {
      "cell_type": "code",
      "metadata": {
        "id": "d3nSqGTIrB6l"
      },
      "source": [
        ""
      ],
      "execution_count": null,
      "outputs": []
    }
  ]
}