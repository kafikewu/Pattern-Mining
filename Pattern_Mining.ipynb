{
  "nbformat": 4,
  "nbformat_minor": 0,
  "metadata": {
    "colab": {
      "name": "Pattern Mining.ipynb",
      "provenance": [],
      "collapsed_sections": [],
      "toc_visible": true,
      "include_colab_link": true
    },
    "kernelspec": {
      "name": "python374jvsc74a57bd05f292722d6d50c2426abae6fd15a85386b49c5393ec98f1c35f79e4e4dd7448b",
      "display_name": "Python 3.7.4 64-bit ('base': conda)"
    },
    "language_info": {
      "name": "python",
      "version": "3.7.4"
    }
  },
  "cells": [
    {
      "cell_type": "markdown",
      "metadata": {
        "id": "view-in-github",
        "colab_type": "text"
      },
      "source": [
        "<a href=\"https://colab.research.google.com/github/kafikewu/Pattern-Mining/blob/master/Pattern_Mining.ipynb\" target=\"_parent\"><img src=\"https://colab.research.google.com/assets/colab-badge.svg\" alt=\"Open In Colab\"/></a>"
      ]
    },
    {
      "cell_type": "code",
      "metadata": {
        "id": "gZO-NRwqQS8G"
      },
      "source": [
        "import pandas as pd\n",
        "import numpy as np\n",
        "from collections import Counter"
      ],
      "execution_count": null,
      "outputs": []
    },
    {
      "cell_type": "code",
      "metadata": {
        "id": "Pj4bHeROQk6s"
      },
      "source": [
        "dataset = []\n",
        "with open(\"/content/drive/MyDrive/CSE477 Project/kosarak.dat\") as f:\n",
        "  for line in f:\n",
        "    dataline = [int(i) for i in line.split(' ')] ## Due to the last position having \\n\n",
        "    dataset.append(dataline)"
      ],
      "execution_count": null,
      "outputs": []
    },
    {
      "cell_type": "code",
      "metadata": {
        "id": "l8JCHe3RWAht"
      },
      "source": [
        "from mlxtend.preprocessing import TransactionEncoder\n",
        "transactionencoder = TransactionEncoder()\n",
        "arr = transactionencoder.fit_transform(dataset, sparse = True)\n",
        "df = pd.DataFrame.sparse.from_spmatrix(data=arr, columns=[str(i) for i in transactionencoder.columns_]) ## After fit_transform, the transactionencoder automatically generates the columns\n",
        "# df = pd.DataFrame(data=arr, columns=[str(i) for i in transactionencoder.columns_])\n",
        "# df.memory_usage(index=True).sum()"
      ],
      "execution_count": null,
      "outputs": []
    },
    {
      "cell_type": "code",
      "metadata": {
        "colab": {
          "base_uri": "https://localhost:8080/"
        },
        "id": "fL-d1NGjBzg5",
        "outputId": "3c83c29d-73ce-4449-c3e0-9d9c43d49798"
      },
      "source": [
        "## Used for pruned datasets.\n",
        "# df = pd.read_csv('/content/drive/MyDrive/CSE477 Project/chessCleaned(0.5).csv')\n",
        "# df.pop('Unnamed: 0')\n",
        "# print(df.describe())\n",
        "# df.memory_usage(index=True).sum()\n"
      ],
      "execution_count": null,
      "outputs": [
        {
          "output_type": "stream",
          "text": [
            "           1      2     3      4     5  ...     71    72     73    74     75\n",
            "count   3196   3196  3196   3196  3196  ...   3196  3196   3196  3196   3196\n",
            "unique     2      2     2      2     2  ...      2     2      2     2      2\n",
            "top     True  False  True  False  True  ...  False  True  False  True  False\n",
            "freq    1669   1669  2839   2839  2971  ...   2007  2345   2345  2407   2407\n",
            "\n",
            "[4 rows x 66 columns]\n"
          ],
          "name": "stdout"
        },
        {
          "output_type": "execute_result",
          "data": {
            "text/plain": [
              "211064"
            ]
          },
          "metadata": {
            "tags": []
          },
          "execution_count": 39
        }
      ]
    },
    {
      "cell_type": "code",
      "metadata": {
        "id": "Jm8gmzJk8T7d"
      },
      "source": [
        "import seaborn as sns"
      ],
      "execution_count": null,
      "outputs": []
    },
    {
      "cell_type": "code",
      "metadata": {
        "id": "XzfFf4yUfEWc"
      },
      "source": [
        "from mlxtend.frequent_patterns import apriori\n",
        "import time \n",
        "apriori_time = []\n",
        "for i in range(50, 100, 5):\n",
        "    print(i)\n",
        "    for j in range(0, 10):\n",
        "      start = time.time()\n",
        "      value = apriori(df, min_support=(i/100), use_colnames=True)\n",
        "      print(len(value))\n",
        "      end = time.time()\n",
        "      exc_time = end - start\n",
        "      print(len(value))\n",
        "      apriori_time.append([str(i), exc_time, len(value), 'Apriori'])\n",
        "Apriori_dataframe = pd.DataFrame(data=apriori_time, columns=['Threshold', 'Time', 'Number_of_patterns', 'Algorithm'])\n",
        "Apriori_dataframe.to_csv(\"/content/drive/MyDrive/CSE477 Project/Chess(0.5)_Apriori.csv\")\n",
        "sns.set_theme(style=\"whitegrid\")\n",
        "ax = sns.boxplot(x=\"Threshold\", y=\"Time\", data=Apriori_dataframe)\n",
        "figure = ax.get_figure()\n",
        "figure.savefig(\"/content/drive/MyDrive/CSE477 Project/Chess(0.5)_Apriori.png\")"
      ],
      "execution_count": null,
      "outputs": []
    },
    {
      "cell_type": "code",
      "metadata": {
        "id": "UmefKJ0zgSBk"
      },
      "source": [
        "from mlxtend.frequent_patterns import fpgrowth\n",
        "import time \n",
        "fp_time = []\n",
        "for i in range(50, 100, 5):\n",
        "    print(i)\n",
        "    for j in range(0, 10):\n",
        "      start = time.time()\n",
        "      value = fpgrowth(df, min_support=(i/100), use_colnames=True)\n",
        "      print(len(value))\n",
        "      end = time.time()\n",
        "      exc_time = end-start\n",
        "      fp_time.append([str(i), exc_time, len(value), 'Fp-Growth'])\n",
        "Fp_dataframe = pd.DataFrame(data=fp_time, columns=['Threshold', 'Time', 'Number_of_patterns', 'Algorithm'])\n",
        "Fp_dataframe.to_csv(\"/content/drive/MyDrive/CSE477 Project/Chess(0.5)_Fp.csv\")\n",
        "sns.set_theme(style=\"whitegrid\")\n",
        "ax = sns.boxplot(x=\"Threshold\", y=\"Time\", data=Fp_dataframe)\n",
        "figure = ax.get_figure()\n",
        "figure.savefig(\"/content/drive/MyDrive/CSE477 Project/Chess(0.5)_Fp.png\")\n",
        "print(Fp_dataframe)"
      ],
      "execution_count": null,
      "outputs": []
    },
    {
      "cell_type": "markdown",
      "metadata": {
        "id": "81HjsbuNhmxX"
      },
      "source": [
        "# This is used just for analysis purposes\n",
        "counter = Counter([j for i in range(len(dataset)) for j in dataset[i]]) <br/>\n",
        "counter.most_common()"
      ]
    },
    {
      "cell_type": "markdown",
      "metadata": {
        "id": "knko3N8KlV2S",
        "outputId": "0cb0bda1-cce9-4011-e894-39b12c25ead4"
      },
      "source": [
        "# It is used to upgrade mlxtend\n",
        "%pip install mlxtend --upgrade"
      ]
    },
    {
      "cell_type": "code",
      "metadata": {
        "colab": {
          "base_uri": "https://localhost:8080/",
          "height": 295
        },
        "id": "ql3LTaooAxbX",
        "outputId": "022b3f0c-5a1c-4f9c-c915-cf063f471be8"
      },
      "source": [
        "import matplotlib.pyplot as plt\n",
        "x, y1, y2 = [i for i in apriori_time.keys()], [i for i in apriori_time.values()], [i for i in fpgrowth_time.values()]\n",
        "plt.plot(x, y1, label='Apriori', color = 'olive')\n",
        "plt.plot(x, y2, label = 'FPGrowth', color= 'blue')\n",
        "plt.grid(True)\n",
        "plt.xlabel(\"Threshold\")\n",
        "plt.ylabel(\"Time\")\n",
        "plt.title(\"kosarak Dataset Cleaned(0.1)\")\n",
        "plt.legend()\n",
        "plt.savefig('/content/drive/MyDrive/CSE477 Project/kosarakCleaned(0.1).png', dpi = 300)\n",
        "plt.show()\n"
      ],
      "execution_count": null,
      "outputs": [
        {
          "output_type": "display_data",
          "data": {
            "image/png": "[encoded data removed]",
            "text/plain": [
              "<Figure size 432x288 with 1 Axes>"
            ]
          },
          "metadata": {
            "tags": [],
            "needs_background": "light"
          }
        }
      ]
    },
    {
      "cell_type": "code",
      "metadata": {
        "colab": {
          "base_uri": "https://localhost:8080/"
        },
        "id": "__oIXwO1Y9C3",
        "outputId": "b1545826-cd18-483c-860e-48c67d065a66"
      },
      "source": [
        "from google.colab import drive\n",
        "drive.mount('/content/drive')"
      ],
      "execution_count": null,
      "outputs": [
        {
          "output_type": "stream",
          "text": [
            "Mounted at /content/drive\n"
          ],
          "name": "stdout"
        }
      ]
    },
    {
      "cell_type": "code",
      "metadata": {
        "id": "Po0hIrMTKfzk",
        "colab": {
          "base_uri": "https://localhost:8080/",
          "height": 474
        },
        "outputId": "8959417d-3067-492c-909d-9c87b868bd27"
      },
      "source": [
        "%pip install mlxtend --upgrade"
      ],
      "execution_count": null,
      "outputs": [
        {
          "output_type": "stream",
          "text": [
            "Collecting mlxtend\n",
            "\u001b[?25l  Downloading https://files.pythonhosted.org/packages/86/30/781c0b962a70848db83339567ecab656638c62f05adb064cb33c0ae49244/mlxtend-0.18.0-py2.py3-none-any.whl (1.3MB)\n",
            "\u001b[K     |████████████████████████████████| 1.4MB 5.1MB/s \n",
            "\u001b[?25hRequirement already satisfied, skipping upgrade: pandas>=0.24.2 in /usr/local/lib/python3.7/dist-packages (from mlxtend) (1.1.5)\n",
            "Requirement already satisfied, skipping upgrade: scipy>=1.2.1 in /usr/local/lib/python3.7/dist-packages (from mlxtend) (1.4.1)\n",
            "Requirement already satisfied, skipping upgrade: matplotlib>=3.0.0 in /usr/local/lib/python3.7/dist-packages (from mlxtend) (3.2.2)\n",
            "Requirement already satisfied, skipping upgrade: joblib>=0.13.2 in /usr/local/lib/python3.7/dist-packages (from mlxtend) (1.0.1)\n",
            "Requirement already satisfied, skipping upgrade: scikit-learn>=0.20.3 in /usr/local/lib/python3.7/dist-packages (from mlxtend) (0.22.2.post1)\n",
            "Requirement already satisfied, skipping upgrade: numpy>=1.16.2 in /usr/local/lib/python3.7/dist-packages (from mlxtend) (1.19.5)\n",
            "Requirement already satisfied, skipping upgrade: setuptools in /usr/local/lib/python3.7/dist-packages (from mlxtend) (57.0.0)\n",
            "Requirement already satisfied, skipping upgrade: pytz>=2017.2 in /usr/local/lib/python3.7/dist-packages (from pandas>=0.24.2->mlxtend) (2018.9)\n",
            "Requirement already satisfied, skipping upgrade: python-dateutil>=2.7.3 in /usr/local/lib/python3.7/dist-packages (from pandas>=0.24.2->mlxtend) (2.8.1)\n",
            "Requirement already satisfied, skipping upgrade: cycler>=0.10 in /usr/local/lib/python3.7/dist-packages (from matplotlib>=3.0.0->mlxtend) (0.10.0)\n",
            "Requirement already satisfied, skipping upgrade: kiwisolver>=1.0.1 in /usr/local/lib/python3.7/dist-packages (from matplotlib>=3.0.0->mlxtend) (1.3.1)\n",
            "Requirement already satisfied, skipping upgrade: pyparsing!=2.0.4,!=2.1.2,!=2.1.6,>=2.0.1 in /usr/local/lib/python3.7/dist-packages (from matplotlib>=3.0.0->mlxtend) (2.4.7)\n",
            "Requirement already satisfied, skipping upgrade: six>=1.5 in /usr/local/lib/python3.7/dist-packages (from python-dateutil>=2.7.3->pandas>=0.24.2->mlxtend) (1.15.0)\n",
            "Installing collected packages: mlxtend\n",
            "  Found existing installation: mlxtend 0.14.0\n",
            "    Uninstalling mlxtend-0.14.0:\n",
            "      Successfully uninstalled mlxtend-0.14.0\n",
            "Successfully installed mlxtend-0.18.0\n"
          ],
          "name": "stdout"
        },
        {
          "output_type": "display_data",
          "data": {
            "application/vnd.colab-display-data+json": {
              "pip_warning": {
                "packages": [
                  "mlxtend"
                ]
              }
            }
          },
          "metadata": {
            "tags": []
          }
        }
      ]
    },
    {
      "cell_type": "code",
      "metadata": {
        "colab": {
          "base_uri": "https://localhost:8080/",
          "height": 520
        },
        "id": "UTl4iSgu_MX2",
        "outputId": "69f8103f-50fe-480a-91ef-be8873c75cbd"
      },
      "source": [
        "Apriori_dataframe = Apriori_dataframe.append(Fp_dataframe)\n",
        "# Apriori_dataframe.rename(columns=)\n",
        "ax = sns.boxplot(x=\"Threshold\", y=\"Time\", hue=\"Algorithm\",\n",
        "                 data=Apriori_dataframe, linewidth=2.5)\n",
        "figure = ax.get_figure()\n",
        "figure.savefig(\"/content/drive/MyDrive/CSE477 Project/Chess(0.5)_Comparison.png\")\n",
        "print(Fp_dataframe)"
      ],
      "execution_count": null,
      "outputs": [
        {
          "output_type": "stream",
          "text": [
            "   Threshold      Time  Number_of_patterns  Algorithm\n",
            "0         50  6.040963                   1  Fp-Growth\n",
            "1         50  5.826162                   1  Fp-Growth\n",
            "2         50  5.924795                   1  Fp-Growth\n",
            "3         50  6.051424                   1  Fp-Growth\n",
            "4         50  5.941048                   1  Fp-Growth\n",
            "..       ...       ...                 ...        ...\n",
            "95        95  4.864044                   0  Fp-Growth\n",
            "96        95  4.946241                   0  Fp-Growth\n",
            "97        95  4.982345                   0  Fp-Growth\n",
            "98        95  4.942907                   0  Fp-Growth\n",
            "99        95  4.880034                   0  Fp-Growth\n",
            "\n",
            "[100 rows x 4 columns]\n"
          ],
          "name": "stdout"
        },
        {
          "output_type": "display_data",
          "data": {
            "image/png": "[encoded data removed]",
            "text/plain": [
              "<Figure size 432x288 with 1 Axes>"
            ]
          },
          "metadata": {
            "tags": []
          }
        }
      ]
    },
    {
      "cell_type": "code",
      "metadata": {
        "colab": {
          "base_uri": "https://localhost:8080/",
          "height": 334
        },
        "id": "NR1QWl-1EL-E",
        "outputId": "da07f25b-90a8-4f5b-d955-2dcd0ca68fb9"
      },
      "source": [
        "import matplotlib.pyplot as plt\n",
        "x = list(Fp_dataframe[['Threshold', 'Number_of_patterns']].drop_duplicates()['Threshold'])\n",
        "y1 = list(Fp_dataframe[['Threshold', 'Number_of_patterns']].drop_duplicates()['Number_of_patterns'])\n",
        "plt.plot(x, y1, color = 'olive')\n",
        "# plt.plot(x, y2, label = 'FPGrowth', color= 'blue')\n",
        "\n",
        "print(list(Fp_dataframe[['Threshold', 'Number_of_patterns']].drop_duplicates()['Number_of_patterns']))\n",
        "plt.grid(True)\n",
        "plt.xlabel(\"Threshold\")\n",
        "plt.ylabel(\"Number of Frequent Patterns\")\n",
        "plt.title(\"kosarak Dataset Number of Frequent Patterns\")\n",
        "plt.legend()\n",
        "plt.savefig('/content/drive/MyDrive/CSE477 Project/Chess Dataset Number of Frequent Patterns.png', dpi = 300)\n",
        "plt.show()"
      ],
      "execution_count": null,
      "outputs": [
        {
          "output_type": "stream",
          "text": [
            "No handles with labels found to put in legend.\n"
          ],
          "name": "stderr"
        },
        {
          "output_type": "stream",
          "text": [
            "[1, 1, 1, 0, 0, 0, 0, 0, 0, 0]\n"
          ],
          "name": "stdout"
        },
        {
          "output_type": "display_data",
          "data": {
            "image/png": "[encoded data removed]",
            "text/plain": [
              "<Figure size 432x288 with 1 Axes>"
            ]
          },
          "metadata": {
            "tags": []
          }
        }
      ]
    },
    {
      "cell_type": "code",
      "metadata": {
        "id": "7rEfAbr0SxXq"
      },
      "source": [
        ""
      ],
      "execution_count": null,
      "outputs": []
    }
  ]
}