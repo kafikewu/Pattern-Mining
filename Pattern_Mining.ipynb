{
  "nbformat": 4,
  "nbformat_minor": 0,
  "metadata": {
    "colab": {
      "name": "Pattern Mining.ipynb",
      "provenance": [],
      "toc_visible": true
    },
    "kernelspec": {
      "name": "python374jvsc74a57bd05f292722d6d50c2426abae6fd15a85386b49c5393ec98f1c35f79e4e4dd7448b",
      "display_name": "Python 3.7.4 64-bit ('base': conda)"
    },
    "language_info": {
      "name": "python",
      "version": "3.7.4"
    }
  },
  "cells": [
    {
      "cell_type": "code",
      "metadata": {
        "id": "gZO-NRwqQS8G"
      },
      "source": [
        "import pandas as pd\n",
        "import numpy as np\n",
        "from collections import Counter"
      ],
      "execution_count": 2,
      "outputs": []
    },
    {
      "cell_type": "code",
      "metadata": {
        "id": "Pj4bHeROQk6s"
      },
      "source": [
        "dataset = []\n",
        "with open(\"/content/drive/MyDrive/CSE477 Project/kosarak.dat\") as f:\n",
        "  for line in f:\n",
        "    dataline = [int(i) for i in line.split(' ')[:-1]] ## Due to the last position having \\n\n",
        "    dataset.append(dataline)"
      ],
      "execution_count": 11,
      "outputs": []
    },
    {
      "cell_type": "code",
      "metadata": {
        "id": "l8JCHe3RWAht"
      },
      "source": [
        "from mlxtend.preprocessing import TransactionEncoder\n",
        "transactionencoder = TransactionEncoder()\n",
        "arr = transactionencoder.fit_transform(dataset, sparse = True)\n",
        "df = pd.DataFrame.sparse.from_spmatrix(data=arr, columns=[str(i) for i in transactionencoder.columns_]) ## After fit_transform, the transactionencoder automatically generates the columns"
      ],
      "execution_count": 12,
      "outputs": []
    },
    {
      "cell_type": "code",
      "metadata": {
        "id": "0NInHWf5ZsDk"
      },
      "source": [
        "##https://stackoverflow.com/questions/51528769/how-to-implement-fpgrowth-algorithm-in-python"
      ],
      "execution_count": null,
      "outputs": []
    },
    {
      "cell_type": "code",
      "metadata": {
        "colab": {
          "base_uri": "https://localhost:8080/",
          "height": 424
        },
        "id": "fL-d1NGjBzg5",
        "outputId": "e6771489-1bcc-4a80-80fe-2513dc9eeea7"
      },
      "source": [
        "# df = pd.read_csv('/content/drive/MyDrive/CSE477 Project/kosarakCleaned(0.5).csv')\n",
        "# df.pop('Unnamed: 0')\n",
        "# df"
      ],
      "execution_count": null,
      "outputs": [
        {
          "output_type": "execute_result",
          "data": {
            "text/html": [
              "<div>\n",
              "<style scoped>\n",
              "    .dataframe tbody tr th:only-of-type {\n",
              "        vertical-align: middle;\n",
              "    }\n",
              "\n",
              "    .dataframe tbody tr th {\n",
              "        vertical-align: top;\n",
              "    }\n",
              "\n",
              "    .dataframe thead th {\n",
              "        text-align: right;\n",
              "    }\n",
              "</style>\n",
              "<table border=\"1\" class=\"dataframe\">\n",
              "  <thead>\n",
              "    <tr style=\"text-align: right;\">\n",
              "      <th></th>\n",
              "      <th>1</th>\n",
              "      <th>3</th>\n",
              "      <th>6</th>\n",
              "      <th>11</th>\n",
              "    </tr>\n",
              "  </thead>\n",
              "  <tbody>\n",
              "    <tr>\n",
              "      <th>0</th>\n",
              "      <td>True</td>\n",
              "      <td>False</td>\n",
              "      <td>False</td>\n",
              "      <td>False</td>\n",
              "    </tr>\n",
              "    <tr>\n",
              "      <th>1</th>\n",
              "      <td>False</td>\n",
              "      <td>False</td>\n",
              "      <td>False</td>\n",
              "      <td>False</td>\n",
              "    </tr>\n",
              "    <tr>\n",
              "      <th>2</th>\n",
              "      <td>False</td>\n",
              "      <td>False</td>\n",
              "      <td>True</td>\n",
              "      <td>False</td>\n",
              "    </tr>\n",
              "    <tr>\n",
              "      <th>3</th>\n",
              "      <td>True</td>\n",
              "      <td>False</td>\n",
              "      <td>False</td>\n",
              "      <td>False</td>\n",
              "    </tr>\n",
              "    <tr>\n",
              "      <th>4</th>\n",
              "      <td>False</td>\n",
              "      <td>False</td>\n",
              "      <td>False</td>\n",
              "      <td>False</td>\n",
              "    </tr>\n",
              "    <tr>\n",
              "      <th>...</th>\n",
              "      <td>...</td>\n",
              "      <td>...</td>\n",
              "      <td>...</td>\n",
              "      <td>...</td>\n",
              "    </tr>\n",
              "    <tr>\n",
              "      <th>989997</th>\n",
              "      <td>False</td>\n",
              "      <td>False</td>\n",
              "      <td>True</td>\n",
              "      <td>False</td>\n",
              "    </tr>\n",
              "    <tr>\n",
              "      <th>989998</th>\n",
              "      <td>False</td>\n",
              "      <td>False</td>\n",
              "      <td>False</td>\n",
              "      <td>False</td>\n",
              "    </tr>\n",
              "    <tr>\n",
              "      <th>989999</th>\n",
              "      <td>False</td>\n",
              "      <td>False</td>\n",
              "      <td>True</td>\n",
              "      <td>True</td>\n",
              "    </tr>\n",
              "    <tr>\n",
              "      <th>990000</th>\n",
              "      <td>False</td>\n",
              "      <td>False</td>\n",
              "      <td>False</td>\n",
              "      <td>False</td>\n",
              "    </tr>\n",
              "    <tr>\n",
              "      <th>990001</th>\n",
              "      <td>False</td>\n",
              "      <td>False</td>\n",
              "      <td>False</td>\n",
              "      <td>False</td>\n",
              "    </tr>\n",
              "  </tbody>\n",
              "</table>\n",
              "<p>990002 rows × 4 columns</p>\n",
              "</div>"
            ],
            "text/plain": [
              "            1      3      6     11\n",
              "0        True  False  False  False\n",
              "1       False  False  False  False\n",
              "2       False  False   True  False\n",
              "3        True  False  False  False\n",
              "4       False  False  False  False\n",
              "...       ...    ...    ...    ...\n",
              "989997  False  False   True  False\n",
              "989998  False  False  False  False\n",
              "989999  False  False   True   True\n",
              "990000  False  False  False  False\n",
              "990001  False  False  False  False\n",
              "\n",
              "[990002 rows x 4 columns]"
            ]
          },
          "metadata": {
            "tags": []
          },
          "execution_count": 6
        }
      ]
    },
    {
      "cell_type": "code",
      "metadata": {
        "id": "Jm8gmzJk8T7d"
      },
      "source": [
        "import seaborn as sns"
      ],
      "execution_count": 13,
      "outputs": []
    },
    {
      "cell_type": "code",
      "metadata": {
        "colab": {
          "base_uri": "https://localhost:8080/",
          "height": 1000
        },
        "id": "XzfFf4yUfEWc",
        "outputId": "8055a085-1081-4ab7-e046-ba554a297747"
      },
      "source": [
        "from mlxtend.frequent_patterns import apriori\n",
        "import time \n",
        "apriori_time = []\n",
        "for i in range(50, 100, 5):\n",
        "    print(i)\n",
        "    for j in range(0, 10):\n",
        "      start = time.time()\n",
        "      value = apriori(df, min_support=(i/100), use_colnames=True)\n",
        "      print(len(value))\n",
        "      end = time.time()\n",
        "      exc_time = end - start\n",
        "      apriori_time.append([str(i), exc_time, len(value), 'Apriori'])\n",
        "Apriori_dataframe = pd.DataFrame(data=apriori_time, columns=['Accuracy', 'Time', 'Number_of_patterns', 'Algorithm'])\n",
        "Apriori_dataframe.to_csv(\"/content/drive/MyDrive/CSE477 Project/Kosarak_Apriori.csv\")\n",
        "sns.set_theme(style=\"whitegrid\")\n",
        "ax = sns.boxplot(x=\"Accuracy\", y=\"Time\", data=Apriori_dataframe)\n",
        "figure = ax.get_figure()\n",
        "figure.savefig(\"/content/drive/MyDrive/CSE477 Project/Kosarak_Apriori.png\")"
      ],
      "execution_count": 14,
      "outputs": [
        {
          "output_type": "stream",
          "text": [
            "50\n",
            "1\n",
            "1\n",
            "1\n",
            "1\n",
            "1\n",
            "1\n",
            "1\n",
            "1\n",
            "1\n",
            "1\n",
            "55\n",
            "0\n",
            "0\n",
            "0\n",
            "0\n",
            "0\n",
            "0\n",
            "0\n",
            "0\n",
            "0\n",
            "0\n",
            "60\n",
            "0\n",
            "0\n",
            "0\n",
            "0\n",
            "0\n",
            "0\n",
            "0\n",
            "0\n",
            "0\n",
            "0\n",
            "65\n",
            "0\n",
            "0\n",
            "0\n",
            "0\n",
            "0\n",
            "0\n",
            "0\n",
            "0\n",
            "0\n",
            "0\n",
            "70\n",
            "0\n",
            "0\n",
            "0\n",
            "0\n",
            "0\n",
            "0\n",
            "0\n",
            "0\n",
            "0\n",
            "0\n",
            "75\n",
            "0\n",
            "0\n",
            "0\n",
            "0\n",
            "0\n",
            "0\n",
            "0\n",
            "0\n",
            "0\n",
            "0\n",
            "80\n",
            "0\n",
            "0\n",
            "0\n",
            "0\n",
            "0\n",
            "0\n",
            "0\n",
            "0\n",
            "0\n",
            "0\n",
            "85\n",
            "0\n",
            "0\n",
            "0\n",
            "0\n",
            "0\n",
            "0\n",
            "0\n",
            "0\n",
            "0\n",
            "0\n",
            "90\n",
            "0\n",
            "0\n",
            "0\n",
            "0\n",
            "0\n",
            "0\n",
            "0\n",
            "0\n",
            "0\n",
            "0\n",
            "95\n",
            "0\n",
            "0\n",
            "0\n",
            "0\n",
            "0\n",
            "0\n",
            "0\n",
            "0\n",
            "0\n",
            "0\n"
          ],
          "name": "stdout"
        },
        {
          "output_type": "display_data",
          "data": {
            "image/png": "[encoded data removed]",
            "text/plain": [
              "<Figure size 432x288 with 1 Axes>"
            ]
          },
          "metadata": {
            "tags": []
          }
        }
      ]
    },
    {
      "cell_type": "code",
      "metadata": {
        "colab": {
          "base_uri": "https://localhost:8080/",
          "height": 1000
        },
        "id": "UmefKJ0zgSBk",
        "outputId": "66f282bd-256d-42a6-8252-38c6d42278f1"
      },
      "source": [
        "from mlxtend.frequent_patterns import fpgrowth\n",
        "import time \n",
        "fp_time = []\n",
        "for i in range(50, 100, 5):\n",
        "    print(i)\n",
        "    for j in range(0, 10):\n",
        "      start = time.time()\n",
        "      value = fpgrowth(df, min_support=(i/100), use_colnames=True)\n",
        "      print(len(value))\n",
        "      end = time.time()\n",
        "      exc_time = end-start\n",
        "      fp_time.append([str(i), exc_time, len(value), 'Fp-Growth'])\n",
        "Fp_dataframe = pd.DataFrame(data=fp_time, columns=['Accuracy', 'Time', 'Number_of_patterns', 'Algorithm'])\n",
        "Fp_dataframe.to_csv(\"/content/drive/MyDrive/CSE477 Project/Kosarak_Fp.csv\")\n",
        "sns.set_theme(style=\"whitegrid\")\n",
        "ax = sns.boxplot(x=\"Accuracy\", y=\"Time\", data=Apriori_dataframe)\n",
        "figure = ax.get_figure()\n",
        "figure.savefig(\"/content/drive/MyDrive/CSE477 Project/Kosarak_Fp.png\")\n",
        "print(Fp_dataframe)"
      ],
      "execution_count": 16,
      "outputs": [
        {
          "output_type": "stream",
          "text": [
            "50\n",
            "1\n",
            "1\n",
            "1\n",
            "1\n",
            "1\n",
            "1\n",
            "1\n",
            "1\n",
            "1\n",
            "1\n",
            "55\n",
            "0\n",
            "0\n",
            "0\n",
            "0\n",
            "0\n",
            "0\n",
            "0\n",
            "0\n",
            "0\n",
            "0\n",
            "60\n",
            "0\n",
            "0\n",
            "0\n",
            "0\n",
            "0\n",
            "0\n",
            "0\n",
            "0\n",
            "0\n",
            "0\n",
            "65\n",
            "0\n",
            "0\n",
            "0\n",
            "0\n",
            "0\n",
            "0\n",
            "0\n",
            "0\n",
            "0\n",
            "0\n",
            "70\n",
            "0\n",
            "0\n",
            "0\n",
            "0\n",
            "0\n",
            "0\n",
            "0\n",
            "0\n",
            "0\n",
            "0\n",
            "75\n",
            "0\n",
            "0\n",
            "0\n",
            "0\n",
            "0\n",
            "0\n",
            "0\n",
            "0\n",
            "0\n",
            "0\n",
            "80\n",
            "0\n",
            "0\n",
            "0\n",
            "0\n",
            "0\n",
            "0\n",
            "0\n",
            "0\n",
            "0\n",
            "0\n",
            "85\n",
            "0\n",
            "0\n",
            "0\n",
            "0\n",
            "0\n",
            "0\n",
            "0\n",
            "0\n",
            "0\n",
            "0\n",
            "90\n",
            "0\n",
            "0\n",
            "0\n",
            "0\n",
            "0\n",
            "0\n",
            "0\n",
            "0\n",
            "0\n",
            "0\n",
            "95\n",
            "0\n",
            "0\n",
            "0\n",
            "0\n",
            "0\n",
            "0\n",
            "0\n",
            "0\n",
            "0\n",
            "0\n",
            "   Accuracy      Time  Number_of_patterns  Algorithm\n",
            "0        50  5.625405                   1  Fp-Growth\n",
            "1        50  5.756809                   1  Fp-Growth\n",
            "2        50  5.903941                   1  Fp-Growth\n",
            "3        50  6.089185                   1  Fp-Growth\n",
            "4        50  5.812860                   1  Fp-Growth\n",
            "..      ...       ...                 ...        ...\n",
            "95       95  4.936857                   0  Fp-Growth\n",
            "96       95  5.236668                   0  Fp-Growth\n",
            "97       95  5.073672                   0  Fp-Growth\n",
            "98       95  5.162206                   0  Fp-Growth\n",
            "99       95  5.137509                   0  Fp-Growth\n",
            "\n",
            "[100 rows x 4 columns]\n"
          ],
          "name": "stdout"
        },
        {
          "output_type": "display_data",
          "data": {
            "image/png": "[encoded data removed]",
            "text/plain": [
              "<Figure size 432x288 with 1 Axes>"
            ]
          },
          "metadata": {
            "tags": []
          }
        }
      ]
    },
    {
      "cell_type": "markdown",
      "metadata": {
        "id": "81HjsbuNhmxX"
      },
      "source": [
        "# This is used just for analysis purposes\n",
        "counter = Counter([j for i in range(len(dataset)) for j in dataset[i]]) <br/>\n",
        "counter.most_common()"
      ]
    },
    {
      "cell_type": "markdown",
      "metadata": {
        "id": "knko3N8KlV2S",
        "outputId": "0cb0bda1-cce9-4011-e894-39b12c25ead4"
      },
      "source": [
        "# It is used to upgrade mlxtend\n",
        "%pip install mlxtend --upgrade"
      ]
    },
    {
      "cell_type": "code",
      "metadata": {
        "colab": {
          "base_uri": "https://localhost:8080/",
          "height": 295
        },
        "id": "ql3LTaooAxbX",
        "outputId": "022b3f0c-5a1c-4f9c-c915-cf063f471be8"
      },
      "source": [
        "import matplotlib.pyplot as plt\n",
        "x, y1, y2 = [i for i in apriori_time.keys()], [i for i in apriori_time.values()], [i for i in fpgrowth_time.values()]\n",
        "plt.plot(x, y1, label='Apriori', color = 'olive')\n",
        "plt.plot(x, y2, label = 'FPGrowth', color= 'blue')\n",
        "plt.grid(True)\n",
        "plt.xlabel(\"Threshold\")\n",
        "plt.ylabel(\"Time\")\n",
        "plt.title(\"kosarak Dataset Cleaned(0.1)\")\n",
        "plt.legend()\n",
        "plt.savefig('/content/drive/MyDrive/CSE477 Project/kosarakCleaned(0.1).png', dpi = 300)\n",
        "plt.show()\n"
      ],
      "execution_count": null,
      "outputs": [
        {
          "output_type": "display_data",
          "data": {
            "image/png": "[encoded data removed]",
            "text/plain": [
              "<Figure size 432x288 with 1 Axes>"
            ]
          },
          "metadata": {
            "tags": [],
            "needs_background": "light"
          }
        }
      ]
    },
    {
      "cell_type": "code",
      "metadata": {
        "colab": {
          "base_uri": "https://localhost:8080/"
        },
        "id": "__oIXwO1Y9C3",
        "outputId": "e498029d-0faa-4044-abeb-f9d355d2236e"
      },
      "source": [
        "from google.colab import drive\n",
        "drive.mount('/content/drive')"
      ],
      "execution_count": 3,
      "outputs": [
        {
          "output_type": "stream",
          "text": [
            "Mounted at /content/drive\n"
          ],
          "name": "stdout"
        }
      ]
    },
    {
      "cell_type": "code",
      "metadata": {
        "id": "Po0hIrMTKfzk",
        "colab": {
          "base_uri": "https://localhost:8080/"
        },
        "outputId": "c8daee9f-cb1f-4ff6-a336-3515c263ab29"
      },
      "source": [
        "%pip install mlxtend --upgrade"
      ],
      "execution_count": 1,
      "outputs": [
        {
          "output_type": "stream",
          "text": [
            "Collecting mlxtend\n",
            "\u001b[?25l  Downloading https://files.pythonhosted.org/packages/86/30/781c0b962a70848db83339567ecab656638c62f05adb064cb33c0ae49244/mlxtend-0.18.0-py2.py3-none-any.whl (1.3MB)\n",
            "\r\u001b[K     |▎                               | 10kB 13.2MB/s eta 0:00:01\r\u001b[K     |▌                               | 20kB 19.3MB/s eta 0:00:01\r\u001b[K     |▊                               | 30kB 22.5MB/s eta 0:00:01\r\u001b[K     |█                               | 40kB 25.7MB/s eta 0:00:01\r\u001b[K     |█▏                              | 51kB 17.3MB/s eta 0:00:01\r\u001b[K     |█▌                              | 61kB 18.5MB/s eta 0:00:01\r\u001b[K     |█▊                              | 71kB 12.8MB/s eta 0:00:01\r\u001b[K     |██                              | 81kB 13.7MB/s eta 0:00:01\r\u001b[K     |██▏                             | 92kB 13.5MB/s eta 0:00:01\r\u001b[K     |██▍                             | 102kB 14.2MB/s eta 0:00:01\r\u001b[K     |██▊                             | 112kB 14.2MB/s eta 0:00:01\r\u001b[K     |███                             | 122kB 14.2MB/s eta 0:00:01\r\u001b[K     |███▏                            | 133kB 14.2MB/s eta 0:00:01\r\u001b[K     |███▍                            | 143kB 14.2MB/s eta 0:00:01\r\u001b[K     |███▋                            | 153kB 14.2MB/s eta 0:00:01\r\u001b[K     |████                            | 163kB 14.2MB/s eta 0:00:01\r\u001b[K     |████▏                           | 174kB 14.2MB/s eta 0:00:01\r\u001b[K     |████▍                           | 184kB 14.2MB/s eta 0:00:01\r\u001b[K     |████▋                           | 194kB 14.2MB/s eta 0:00:01\r\u001b[K     |████▉                           | 204kB 14.2MB/s eta 0:00:01\r\u001b[K     |█████▏                          | 215kB 14.2MB/s eta 0:00:01\r\u001b[K     |█████▍                          | 225kB 14.2MB/s eta 0:00:01\r\u001b[K     |█████▋                          | 235kB 14.2MB/s eta 0:00:01\r\u001b[K     |█████▉                          | 245kB 14.2MB/s eta 0:00:01\r\u001b[K     |██████                          | 256kB 14.2MB/s eta 0:00:01\r\u001b[K     |██████▎                         | 266kB 14.2MB/s eta 0:00:01\r\u001b[K     |██████▋                         | 276kB 14.2MB/s eta 0:00:01\r\u001b[K     |██████▉                         | 286kB 14.2MB/s eta 0:00:01\r\u001b[K     |███████                         | 296kB 14.2MB/s eta 0:00:01\r\u001b[K     |███████▎                        | 307kB 14.2MB/s eta 0:00:01\r\u001b[K     |███████▌                        | 317kB 14.2MB/s eta 0:00:01\r\u001b[K     |███████▉                        | 327kB 14.2MB/s eta 0:00:01\r\u001b[K     |████████                        | 337kB 14.2MB/s eta 0:00:01\r\u001b[K     |████████▎                       | 348kB 14.2MB/s eta 0:00:01\r\u001b[K     |████████▌                       | 358kB 14.2MB/s eta 0:00:01\r\u001b[K     |████████▊                       | 368kB 14.2MB/s eta 0:00:01\r\u001b[K     |█████████                       | 378kB 14.2MB/s eta 0:00:01\r\u001b[K     |█████████▎                      | 389kB 14.2MB/s eta 0:00:01\r\u001b[K     |█████████▌                      | 399kB 14.2MB/s eta 0:00:01\r\u001b[K     |█████████▊                      | 409kB 14.2MB/s eta 0:00:01\r\u001b[K     |██████████                      | 419kB 14.2MB/s eta 0:00:01\r\u001b[K     |██████████▎                     | 430kB 14.2MB/s eta 0:00:01\r\u001b[K     |██████████▌                     | 440kB 14.2MB/s eta 0:00:01\r\u001b[K     |██████████▊                     | 450kB 14.2MB/s eta 0:00:01\r\u001b[K     |███████████                     | 460kB 14.2MB/s eta 0:00:01\r\u001b[K     |███████████▏                    | 471kB 14.2MB/s eta 0:00:01\r\u001b[K     |███████████▌                    | 481kB 14.2MB/s eta 0:00:01\r\u001b[K     |███████████▊                    | 491kB 14.2MB/s eta 0:00:01\r\u001b[K     |████████████                    | 501kB 14.2MB/s eta 0:00:01\r\u001b[K     |████████████▏                   | 512kB 14.2MB/s eta 0:00:01\r\u001b[K     |████████████▍                   | 522kB 14.2MB/s eta 0:00:01\r\u001b[K     |████████████▋                   | 532kB 14.2MB/s eta 0:00:01\r\u001b[K     |█████████████                   | 542kB 14.2MB/s eta 0:00:01\r\u001b[K     |█████████████▏                  | 552kB 14.2MB/s eta 0:00:01\r\u001b[K     |█████████████▍                  | 563kB 14.2MB/s eta 0:00:01\r\u001b[K     |█████████████▋                  | 573kB 14.2MB/s eta 0:00:01\r\u001b[K     |█████████████▉                  | 583kB 14.2MB/s eta 0:00:01\r\u001b[K     |██████████████▏                 | 593kB 14.2MB/s eta 0:00:01\r\u001b[K     |██████████████▍                 | 604kB 14.2MB/s eta 0:00:01\r\u001b[K     |██████████████▋                 | 614kB 14.2MB/s eta 0:00:01\r\u001b[K     |██████████████▉                 | 624kB 14.2MB/s eta 0:00:01\r\u001b[K     |███████████████                 | 634kB 14.2MB/s eta 0:00:01\r\u001b[K     |███████████████▍                | 645kB 14.2MB/s eta 0:00:01\r\u001b[K     |███████████████▋                | 655kB 14.2MB/s eta 0:00:01\r\u001b[K     |███████████████▉                | 665kB 14.2MB/s eta 0:00:01\r\u001b[K     |████████████████                | 675kB 14.2MB/s eta 0:00:01\r\u001b[K     |████████████████▎               | 686kB 14.2MB/s eta 0:00:01\r\u001b[K     |████████████████▋               | 696kB 14.2MB/s eta 0:00:01\r\u001b[K     |████████████████▉               | 706kB 14.2MB/s eta 0:00:01\r\u001b[K     |█████████████████               | 716kB 14.2MB/s eta 0:00:01\r\u001b[K     |█████████████████▎              | 727kB 14.2MB/s eta 0:00:01\r\u001b[K     |█████████████████▌              | 737kB 14.2MB/s eta 0:00:01\r\u001b[K     |█████████████████▊              | 747kB 14.2MB/s eta 0:00:01\r\u001b[K     |██████████████████              | 757kB 14.2MB/s eta 0:00:01\r\u001b[K     |██████████████████▎             | 768kB 14.2MB/s eta 0:00:01\r\u001b[K     |██████████████████▌             | 778kB 14.2MB/s eta 0:00:01\r\u001b[K     |██████████████████▊             | 788kB 14.2MB/s eta 0:00:01\r\u001b[K     |███████████████████             | 798kB 14.2MB/s eta 0:00:01\r\u001b[K     |███████████████████▎            | 808kB 14.2MB/s eta 0:00:01\r\u001b[K     |███████████████████▌            | 819kB 14.2MB/s eta 0:00:01\r\u001b[K     |███████████████████▊            | 829kB 14.2MB/s eta 0:00:01\r\u001b[K     |████████████████████            | 839kB 14.2MB/s eta 0:00:01\r\u001b[K     |████████████████████▏           | 849kB 14.2MB/s eta 0:00:01\r\u001b[K     |████████████████████▌           | 860kB 14.2MB/s eta 0:00:01\r\u001b[K     |████████████████████▊           | 870kB 14.2MB/s eta 0:00:01\r\u001b[K     |█████████████████████           | 880kB 14.2MB/s eta 0:00:01\r\u001b[K     |█████████████████████▏          | 890kB 14.2MB/s eta 0:00:01\r\u001b[K     |█████████████████████▍          | 901kB 14.2MB/s eta 0:00:01\r\u001b[K     |█████████████████████▊          | 911kB 14.2MB/s eta 0:00:01\r\u001b[K     |██████████████████████          | 921kB 14.2MB/s eta 0:00:01\r\u001b[K     |██████████████████████▏         | 931kB 14.2MB/s eta 0:00:01\r\u001b[K     |██████████████████████▍         | 942kB 14.2MB/s eta 0:00:01\r\u001b[K     |██████████████████████▋         | 952kB 14.2MB/s eta 0:00:01\r\u001b[K     |███████████████████████         | 962kB 14.2MB/s eta 0:00:01\r\u001b[K     |███████████████████████▏        | 972kB 14.2MB/s eta 0:00:01\r\u001b[K     |███████████████████████▍        | 983kB 14.2MB/s eta 0:00:01\r\u001b[K     |███████████████████████▋        | 993kB 14.2MB/s eta 0:00:01\r\u001b[K     |███████████████████████▉        | 1.0MB 14.2MB/s eta 0:00:01\r\u001b[K     |████████████████████████        | 1.0MB 14.2MB/s eta 0:00:01\r\u001b[K     |████████████████████████▍       | 1.0MB 14.2MB/s eta 0:00:01\r\u001b[K     |████████████████████████▋       | 1.0MB 14.2MB/s eta 0:00:01\r\u001b[K     |████████████████████████▉       | 1.0MB 14.2MB/s eta 0:00:01\r\u001b[K     |█████████████████████████       | 1.1MB 14.2MB/s eta 0:00:01\r\u001b[K     |█████████████████████████▎      | 1.1MB 14.2MB/s eta 0:00:01\r\u001b[K     |█████████████████████████▋      | 1.1MB 14.2MB/s eta 0:00:01\r\u001b[K     |█████████████████████████▉      | 1.1MB 14.2MB/s eta 0:00:01\r\u001b[K     |██████████████████████████      | 1.1MB 14.2MB/s eta 0:00:01\r\u001b[K     |██████████████████████████▎     | 1.1MB 14.2MB/s eta 0:00:01\r\u001b[K     |██████████████████████████▌     | 1.1MB 14.2MB/s eta 0:00:01\r\u001b[K     |██████████████████████████▉     | 1.1MB 14.2MB/s eta 0:00:01\r\u001b[K     |███████████████████████████     | 1.1MB 14.2MB/s eta 0:00:01\r\u001b[K     |███████████████████████████▎    | 1.1MB 14.2MB/s eta 0:00:01\r\u001b[K     |███████████████████████████▌    | 1.2MB 14.2MB/s eta 0:00:01\r\u001b[K     |███████████████████████████▊    | 1.2MB 14.2MB/s eta 0:00:01\r\u001b[K     |████████████████████████████    | 1.2MB 14.2MB/s eta 0:00:01\r\u001b[K     |████████████████████████████▎   | 1.2MB 14.2MB/s eta 0:00:01\r\u001b[K     |████████████████████████████▌   | 1.2MB 14.2MB/s eta 0:00:01\r\u001b[K     |████████████████████████████▊   | 1.2MB 14.2MB/s eta 0:00:01\r\u001b[K     |█████████████████████████████   | 1.2MB 14.2MB/s eta 0:00:01\r\u001b[K     |█████████████████████████████▏  | 1.2MB 14.2MB/s eta 0:00:01\r\u001b[K     |█████████████████████████████▌  | 1.2MB 14.2MB/s eta 0:00:01\r\u001b[K     |█████████████████████████████▊  | 1.2MB 14.2MB/s eta 0:00:01\r\u001b[K     |██████████████████████████████  | 1.3MB 14.2MB/s eta 0:00:01\r\u001b[K     |██████████████████████████████▏ | 1.3MB 14.2MB/s eta 0:00:01\r\u001b[K     |██████████████████████████████▍ | 1.3MB 14.2MB/s eta 0:00:01\r\u001b[K     |██████████████████████████████▊ | 1.3MB 14.2MB/s eta 0:00:01\r\u001b[K     |███████████████████████████████ | 1.3MB 14.2MB/s eta 0:00:01\r\u001b[K     |███████████████████████████████▏| 1.3MB 14.2MB/s eta 0:00:01\r\u001b[K     |███████████████████████████████▍| 1.3MB 14.2MB/s eta 0:00:01\r\u001b[K     |███████████████████████████████▋| 1.3MB 14.2MB/s eta 0:00:01\r\u001b[K     |████████████████████████████████| 1.3MB 14.2MB/s eta 0:00:01\r\u001b[K     |████████████████████████████████| 1.4MB 14.2MB/s \n",
            "\u001b[?25hRequirement already satisfied, skipping upgrade: setuptools in /usr/local/lib/python3.7/dist-packages (from mlxtend) (56.1.0)\n",
            "Requirement already satisfied, skipping upgrade: matplotlib>=3.0.0 in /usr/local/lib/python3.7/dist-packages (from mlxtend) (3.2.2)\n",
            "Requirement already satisfied, skipping upgrade: scipy>=1.2.1 in /usr/local/lib/python3.7/dist-packages (from mlxtend) (1.4.1)\n",
            "Requirement already satisfied, skipping upgrade: numpy>=1.16.2 in /usr/local/lib/python3.7/dist-packages (from mlxtend) (1.19.5)\n",
            "Requirement already satisfied, skipping upgrade: joblib>=0.13.2 in /usr/local/lib/python3.7/dist-packages (from mlxtend) (1.0.1)\n",
            "Requirement already satisfied, skipping upgrade: pandas>=0.24.2 in /usr/local/lib/python3.7/dist-packages (from mlxtend) (1.1.5)\n",
            "Requirement already satisfied, skipping upgrade: scikit-learn>=0.20.3 in /usr/local/lib/python3.7/dist-packages (from mlxtend) (0.22.2.post1)\n",
            "Requirement already satisfied, skipping upgrade: pyparsing!=2.0.4,!=2.1.2,!=2.1.6,>=2.0.1 in /usr/local/lib/python3.7/dist-packages (from matplotlib>=3.0.0->mlxtend) (2.4.7)\n",
            "Requirement already satisfied, skipping upgrade: kiwisolver>=1.0.1 in /usr/local/lib/python3.7/dist-packages (from matplotlib>=3.0.0->mlxtend) (1.3.1)\n",
            "Requirement already satisfied, skipping upgrade: cycler>=0.10 in /usr/local/lib/python3.7/dist-packages (from matplotlib>=3.0.0->mlxtend) (0.10.0)\n",
            "Requirement already satisfied, skipping upgrade: python-dateutil>=2.1 in /usr/local/lib/python3.7/dist-packages (from matplotlib>=3.0.0->mlxtend) (2.8.1)\n",
            "Requirement already satisfied, skipping upgrade: pytz>=2017.2 in /usr/local/lib/python3.7/dist-packages (from pandas>=0.24.2->mlxtend) (2018.9)\n",
            "Requirement already satisfied, skipping upgrade: six in /usr/local/lib/python3.7/dist-packages (from cycler>=0.10->matplotlib>=3.0.0->mlxtend) (1.15.0)\n",
            "Installing collected packages: mlxtend\n",
            "  Found existing installation: mlxtend 0.14.0\n",
            "    Uninstalling mlxtend-0.14.0:\n",
            "      Successfully uninstalled mlxtend-0.14.0\n",
            "Successfully installed mlxtend-0.18.0\n"
          ],
          "name": "stdout"
        }
      ]
    },
    {
      "cell_type": "code",
      "metadata": {
        "colab": {
          "base_uri": "https://localhost:8080/",
          "height": 520
        },
        "id": "UTl4iSgu_MX2",
        "outputId": "88376868-070f-40b7-c2e7-ccfd5063a4df"
      },
      "source": [
        "Apriori_dataframe = Apriori_dataframe.append(Fp_dataframe)\n",
        "ax = sns.boxplot(x=\"Accuracy\", y=\"Time\", hue=\"Algorithm\",\n",
        "                 data=Apriori_dataframe, linewidth=2.5)\n",
        "figure = ax.get_figure()\n",
        "figure.savefig(\"/content/drive/MyDrive/CSE477 Project/Kosarak_Comparison.png\")\n",
        "print(Fp_dataframe)"
      ],
      "execution_count": 18,
      "outputs": [
        {
          "output_type": "stream",
          "text": [
            "   Accuracy      Time  Number_of_patterns  Algorithm\n",
            "0        50  5.625405                   1  Fp-Growth\n",
            "1        50  5.756809                   1  Fp-Growth\n",
            "2        50  5.903941                   1  Fp-Growth\n",
            "3        50  6.089185                   1  Fp-Growth\n",
            "4        50  5.812860                   1  Fp-Growth\n",
            "..      ...       ...                 ...        ...\n",
            "95       95  4.936857                   0  Fp-Growth\n",
            "96       95  5.236668                   0  Fp-Growth\n",
            "97       95  5.073672                   0  Fp-Growth\n",
            "98       95  5.162206                   0  Fp-Growth\n",
            "99       95  5.137509                   0  Fp-Growth\n",
            "\n",
            "[100 rows x 4 columns]\n"
          ],
          "name": "stdout"
        },
        {
          "output_type": "display_data",
          "data": {
            "image/png": "[encoded data removed]",
            "text/plain": [
              "<Figure size 432x288 with 1 Axes>"
            ]
          },
          "metadata": {
            "tags": []
          }
        }
      ]
    },
    {
      "cell_type": "code",
      "metadata": {
        "colab": {
          "base_uri": "https://localhost:8080/"
        },
        "id": "GPB6UV6c_h-P",
        "outputId": "1d03c01d-b15c-4ab3-aee0-9a2abcb92805"
      },
      "source": [
        ""
      ],
      "execution_count": 37,
      "outputs": [
        {
          "output_type": "execute_result",
          "data": {
            "text/plain": [
              "0     50\n",
              "10    55\n",
              "20    60\n",
              "30    65\n",
              "40    70\n",
              "50    75\n",
              "60    80\n",
              "70    85\n",
              "80    90\n",
              "90    95\n",
              "Name: Accuracy, dtype: object"
            ]
          },
          "metadata": {
            "tags": []
          },
          "execution_count": 37
        }
      ]
    },
    {
      "cell_type": "code",
      "metadata": {
        "colab": {
          "base_uri": "https://localhost:8080/"
        },
        "id": "WDHWRgaTRB8w",
        "outputId": "00de62e7-3533-4400-efac-f6e4b7122073"
      },
      "source": [
        ""
      ],
      "execution_count": 28,
      "outputs": [
        {
          "output_type": "execute_result",
          "data": {
            "text/plain": [
              "0     2.854376\n",
              "1     1.073216\n",
              "2     1.038722\n",
              "3     1.097802\n",
              "4     1.040646\n",
              "        ...   \n",
              "95    4.936857\n",
              "96    5.236668\n",
              "97    5.073672\n",
              "98    5.162206\n",
              "99    5.137509\n",
              "Name: Time, Length: 300, dtype: float64"
            ]
          },
          "metadata": {
            "tags": []
          },
          "execution_count": 28
        }
      ]
    },
    {
      "cell_type": "code",
      "metadata": {
        "colab": {
          "base_uri": "https://localhost:8080/",
          "height": 334
        },
        "id": "NR1QWl-1EL-E",
        "outputId": "412a9289-ffd4-4c98-87ee-37cdf77f307d"
      },
      "source": [
        "import matplotlib.pyplot as plt\n",
        "x = list(Apriori_dataframe[['Accuracy', 'Number_of_patterns']].drop_duplicates()['Accuracy'])\n",
        "y1 = list(Apriori_dataframe[['Accuracy', 'Number_of_patterns']].drop_duplicates()['Number_of_patterns'])\n",
        "plt.plot(x, y1, color = 'olive')\n",
        "# plt.plot(x, y2, label = 'FPGrowth', color= 'blue')\n",
        "\n",
        "print(list(Apriori_dataframe[['Accuracy', 'Number_of_patterns']].drop_duplicates()['Number_of_patterns']))\n",
        "plt.grid(True)\n",
        "plt.xlabel(\"Threshold\")\n",
        "plt.ylabel(\"Time\")\n",
        "plt.title(\"kosarak Dataset Number of Frequent Patterns\")\n",
        "plt.legend()\n",
        "plt.savefig('/content/drive/MyDrive/CSE477 Project/kosarak Dataset Number of Frequent Patterns.png', dpi = 300)\n",
        "plt.show()"
      ],
      "execution_count": 48,
      "outputs": [
        {
          "output_type": "stream",
          "text": [
            "No handles with labels found to put in legend.\n"
          ],
          "name": "stderr"
        },
        {
          "output_type": "stream",
          "text": [
            "[1, 0, 0, 0, 0, 0, 0, 0, 0, 0]\n"
          ],
          "name": "stdout"
        },
        {
          "output_type": "display_data",
          "data": {
            "image/png": "[encoded data removed]",
            "text/plain": [
              "<Figure size 432x288 with 1 Axes>"
            ]
          },
          "metadata": {
            "tags": []
          }
        }
      ]
    },
    {
      "cell_type": "code",
      "metadata": {
        "id": "7rEfAbr0SxXq"
      },
      "source": [
        ""
      ],
      "execution_count": null,
      "outputs": []
    }
  ]
}